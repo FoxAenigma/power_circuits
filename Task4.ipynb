{
 "cells": [
  {
   "cell_type": "markdown",
   "id": "fccd6bd7",
   "metadata": {},
   "source": [
    "# Task 4: Newtom Rapshon desacoplado rapido"
   ]
  },
  {
   "cell_type": "markdown",
   "id": "eee40df5",
   "metadata": {},
   "source": [
    "<center>\n",
    "    <img src=\"img/task4/circuit.png\"  width=80% height=80%>\n",
    "</center>"
   ]
  },
  {
   "cell_type": "markdown",
   "id": "9f3df59d",
   "metadata": {},
   "source": [
    "## Inicializacion"
   ]
  },
  {
   "cell_type": "markdown",
   "id": "5adba5fe",
   "metadata": {},
   "source": [
    "El primer requisito es obtener la matriz $Y_{bus}$ del circuito, la cual ya viene dada como la descripcion de este."
   ]
  },
  {
   "cell_type": "markdown",
   "id": "950c3fea",
   "metadata": {},
   "source": [
    "$$Y_{bus}=\n",
    "\\begin{bmatrix}\n",
    "    3-j9  & -2+j6     & -1+j3     & 0\\\\\n",
    "    -2+j6 & 3.666-j11 & -0.666+j2 & -1+j3\\\\\n",
    "    -1+j3 & -0.666+j2 & 3.666-j11 & -2+j6\\\\\n",
    "    0     & -1+j3     & -2+j6     & 3-j9\n",
    "\\end{bmatrix}\n",
    "$$"
   ]
  },
  {
   "cell_type": "code",
   "execution_count": null,
   "id": "844ff70f",
   "metadata": {},
   "outputs": [],
   "source": [
    "[img/task4/circuit.png]()"
   ]
  }
 ],
 "metadata": {
  "kernelspec": {
   "display_name": "Python 3 (ipykernel)",
   "language": "python",
   "name": "python3"
  },
  "language_info": {
   "codemirror_mode": {
    "name": "ipython",
    "version": 3
   },
   "file_extension": ".py",
   "mimetype": "text/x-python",
   "name": "python",
   "nbconvert_exporter": "python",
   "pygments_lexer": "ipython3",
   "version": "3.10.6"
  }
 },
 "nbformat": 4,
 "nbformat_minor": 5
}
