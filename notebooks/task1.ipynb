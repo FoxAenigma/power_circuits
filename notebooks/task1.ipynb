{
 "cells": [
  {
   "cell_type": "markdown",
   "id": "05146bbc-46bf-4a7e-b6eb-c9e06ef29ea5",
   "metadata": {},
   "source": [
    "# Task 1: Nodal ecuations\n",
    "\n",
    "## Name: Sergio Andres Vargas Mendez"
   ]
  },
  {
   "cell_type": "markdown",
   "id": "f19fd9ab-4b3c-472e-82da-caa736669893",
   "metadata": {},
   "source": [
    "Calculate the admittance and impedance matrix from the circuit. Then, get the currents, powers and losses (by differents methods)."
   ]
  },
  {
   "cell_type": "markdown",
   "id": "057a074b-2a7d-4ba9-8779-4a5f2cfbed15",
   "metadata": {},
   "source": [
    "<center>\n",
    "    <img src=\"img/task1.jpg\"  width=80% height=80%>\n",
    "</center>\n"
   ]
  },
  {
   "cell_type": "markdown",
   "id": "ad32e252-accd-4f8f-b08c-ca4f3ae7ff32",
   "metadata": {},
   "source": [
    "<center>\n",
    "$Z_l = 0.0013 + j0.003 [pu/km]$\n",
    "</center>\n",
    "<center>\n",
    "$B_c = j0.0008 [pu/km]$\n",
    "</center>"
   ]
  },
  {
   "cell_type": "markdown",
   "id": "3e533f67-cceb-4f39-ba2e-682873585197",
   "metadata": {
    "tags": []
   },
   "source": [
    "## Modules"
   ]
  },
  {
   "cell_type": "markdown",
   "id": "dcbf99c7-cf7d-4b3c-85d1-4e3d74ecadfc",
   "metadata": {},
   "source": [
    "Methods will be explained when solution's instance call it, first modules have to be imported."
   ]
  },
  {
   "cell_type": "code",
   "execution_count": 1,
   "id": "0a69915a-26b4-4f3b-9835-cd4627abd105",
   "metadata": {},
   "outputs": [],
   "source": [
    "#Append directory source code\n",
    "import sys\n",
    "sys.path.append(\"/home/FoxyLuxe/Repo/tasks/power_circuits/src/structures\")\n",
    "\n",
    "#Objects models\n",
    "from circuits import PowerCircuit\n",
    "from nodes import Node\n",
    "from lines import PILine"
   ]
  },
  {
   "cell_type": "markdown",
   "id": "e115526b-9294-4de0-8c18-0a133f63ed3c",
   "metadata": {},
   "source": [
    "In order to solve the problem, class based circuit was made to represent power circuit as a data structure and all methods required within main circuit class to accompany the computation of admittances, impedances, currents and powers. The ordered classes are built like the next image."
   ]
  },
  {
   "cell_type": "markdown",
   "id": "0896108f-b0c2-498e-8629-b2ae4aa5e174",
   "metadata": {},
   "source": [
    "<center>\n",
    "    <img src=\"img/classes.png\"  width=50% height=50%>\n",
    "</center>"
   ]
  },
  {
   "cell_type": "markdown",
   "id": "bb9d1658-9de0-4894-a7a5-d298c8a25988",
   "metadata": {},
   "source": [
    "## Initialization"
   ]
  },
  {
   "cell_type": "markdown",
   "id": "a2946d00-de26-4a8e-8215-dd1c731fd08d",
   "metadata": {},
   "source": [
    "The next step is to define the node map data structure like a dictionary of index keys containing the self index, the voltage of each node and the model for connection between another ones. By the way, the connection structure is a dictionary which map every key with a node of the circuit and the value can be whatever line model (in this case is PI line model described by a distance)."
   ]
  },
  {
   "cell_type": "code",
   "execution_count": 2,
   "id": "eab75c1a-03e9-46f9-a35e-0ef404bfaaf1",
   "metadata": {},
   "outputs": [],
   "source": [
    "zl = 0.0013+0.003j\n",
    "bc = 0+0.0008j\n",
    "\n",
    "node_map = {\n",
    "    1: Node(\n",
    "           _index = 1, \n",
    "           _voltage = (1.045, 0), \n",
    "           _connection = {\n",
    "                4: PILine(_distance=190, _Zl=zl, _Bc=bc),\n",
    "                2: PILine(_distance=130, _Zl=zl, _Bc=bc),\n",
    "                3: PILine(_distance=135, _Zl=zl, _Bc=bc),\n",
    "           }\n",
    "       ),\n",
    "    2: Node(\n",
    "           _index = 2,\n",
    "           _voltage = (0.982, -2.8),\n",
    "           _connection = {\n",
    "               1: PILine(_distance=130, _Zl=zl, _Bc=bc),\n",
    "               4: PILine(_distance=100, _Zl=zl, _Bc=bc),\n",
    "           }\n",
    "       ),\n",
    "    3: Node(\n",
    "           _index = 3,\n",
    "           _voltage = (0.97, -5.5),\n",
    "           _connection = {\n",
    "               1: PILine(_distance=135, _Zl=zl, _Bc=bc),\n",
    "               5: PILine(_distance=150, _Zl=zl, _Bc=bc),\n",
    "           }\n",
    "       ),\n",
    "    4: Node(\n",
    "           _index = 4,\n",
    "           _voltage = (0.96, -4.2),\n",
    "           _connection = {\n",
    "               1: PILine(_distance=190, _Zl=zl, _Bc=bc),\n",
    "               2: PILine(_distance=100, _Zl=zl, _Bc=bc),\n",
    "               5: PILine(_distance=110, _Zl=zl, _Bc=bc),\n",
    "           }\n",
    "       ),\n",
    "    5: Node(\n",
    "           _index = 5,\n",
    "           _voltage = (1.08, -1.2),\n",
    "           _connection = {\n",
    "               4: PILine(_distance=110, _Zl=zl, _Bc=bc),\n",
    "               2: PILine(_distance=120, _Zl=zl, _Bc=bc),\n",
    "               3: PILine(_distance=150, _Zl=zl, _Bc=bc),\n",
    "           }\n",
    "       ),\n",
    "}"
   ]
  },
  {
   "cell_type": "markdown",
   "id": "29610353-2062-4ac1-bb7a-3a8489b230e7",
   "metadata": {},
   "source": [
    "Then, the instance of the circuit is created from the node mapping."
   ]
  },
  {
   "cell_type": "code",
   "execution_count": 3,
   "id": "569bd49f-5045-44da-bef2-f3a46e556379",
   "metadata": {},
   "outputs": [],
   "source": [
    "circuit = PowerCircuit(node_map=node_map)"
   ]
  },
  {
   "cell_type": "markdown",
   "id": "132420ea-05b4-40e3-9991-ceb7a4a78e4f",
   "metadata": {},
   "source": [
    "## Admittance and Impedance matrix"
   ]
  },
  {
   "cell_type": "markdown",
   "id": "754d729f-d5ab-4586-9aa4-28f8b70206a9",
   "metadata": {},
   "source": [
    "To compute the admittance matrix $Y_{bus}$ is required two conditions in index i (node i), j (connection node j). When $i=j$ the admitance should be the sum of all connections with the actual node.\n",
    "\n",
    "$$Y_{ii}=\\sum_{k=1}^{N}y_{ik}$$\n",
    "\n",
    "But, if condition $i!=j$ is raised, the admitance is the negative value between both of them.\n",
    "\n",
    "$$Y_{ij}=-y_{ij}$$"
   ]
  },
  {
   "cell_type": "code",
   "execution_count": 4,
   "id": "3964a126-08ae-410f-ba31-0d20580c4fbf",
   "metadata": {},
   "outputs": [
    {
     "name": "stdout",
     "output_type": "stream",
     "text": [
      "[[ 2.47630822-5.71455744j -0.9354537 +2.1587393j  -0.90080726+2.07878599j\n",
      "  -0.64004727+1.47703215j  0.        +0.j        ]\n",
      " [-0.9354537 +2.1587393j   2.1515435 -4.96510038j  0.        +0.j\n",
      "  -1.2160898 +2.80636109j  0.        +0.j        ]\n",
      " [-0.90080726+2.07878599j  0.        +0.j          1.7115338 -3.94969338j\n",
      "   0.        +0.j         -0.81072654+1.87090739j]\n",
      " [-0.64004727+1.47703215j -1.2160898 +2.80636109j  0.        +0.j\n",
      "   2.96167325-6.83463059j -1.10553619+2.55123735j]\n",
      " [ 0.        +0.j         -1.01340817+2.33863424j -0.81072654+1.87090739j\n",
      "  -1.10553619+2.55123735j  2.92967089-6.76077898j]]\n"
     ]
    }
   ],
   "source": [
    "circuit.compute_admittance()\n",
    "print(circuit.admittanceMT)"
   ]
  },
  {
   "cell_type": "markdown",
   "id": "f0ebb643-0e0b-46d3-9bc8-9a14983ce173",
   "metadata": {},
   "source": [
    "The impedance matrix $Z_{bus}$ is the inverse of $Y_{bus}$\n",
    "\n",
    "$$Z_{bus}=Y_{bus}^{-1}$$"
   ]
  },
  {
   "cell_type": "code",
   "execution_count": 5,
   "id": "cdffd59c-98a1-4506-8e0d-a94580972d37",
   "metadata": {},
   "outputs": [
    {
     "name": "stdout",
     "output_type": "stream",
     "text": [
      "[[-5.75963815e+14+7.67951754e+14j -7.11901496e+14+9.49201994e+14j\n",
      "  -4.60044085e+14+6.13392113e+14j -5.40431955e+14+7.20575940e+14j\n",
      "  -3.31244384e+14+4.41659179e+14j]\n",
      " [-5.75963815e+14+7.67951754e+14j -7.11901496e+14+9.49201994e+14j\n",
      "  -4.60044085e+14+6.13392113e+14j -5.40431955e+14+7.20575940e+14j\n",
      "  -3.31244384e+14+4.41659179e+14j]\n",
      " [-5.75963815e+14+7.67951754e+14j -7.11901496e+14+9.49201994e+14j\n",
      "  -4.60044085e+14+6.13392113e+14j -5.40431955e+14+7.20575940e+14j\n",
      "  -3.31244384e+14+4.41659179e+14j]\n",
      " [-5.75963815e+14+7.67951754e+14j -7.11901496e+14+9.49201994e+14j\n",
      "  -4.60044085e+14+6.13392113e+14j -5.40431955e+14+7.20575940e+14j\n",
      "  -3.31244384e+14+4.41659179e+14j]\n",
      " [-5.75963815e+14+7.67951754e+14j -7.11901496e+14+9.49201994e+14j\n",
      "  -4.60044085e+14+6.13392113e+14j -5.40431955e+14+7.20575940e+14j\n",
      "  -3.31244384e+14+4.41659179e+14j]]\n"
     ]
    }
   ],
   "source": [
    "circuit.compute_impedance()\n",
    "print(circuit.impedanceMT)"
   ]
  },
  {
   "cell_type": "markdown",
   "id": "fd02f37b-cd16-457a-8884-040bf736f57b",
   "metadata": {},
   "source": [
    "## Injected current"
   ]
  },
  {
   "cell_type": "markdown",
   "id": "b4fb0e28-4cf0-42ea-91ba-e62f29d66763",
   "metadata": {},
   "source": [
    "The injected current can be expressed like:\n",
    "\n",
    "$$I_{ii}=\\sum_{k=1}^NY_{ik}E_k$$"
   ]
  },
  {
   "cell_type": "code",
   "execution_count": 6,
   "id": "35dbbe6a-5fd9-4ce4-b674-daba8003c150",
   "metadata": {},
   "outputs": [
    {
     "name": "stdout",
     "output_type": "stream",
     "text": [
      "[[-1.99940498+5.71225669j]\n",
      " [-1.94454861+5.02825578j]\n",
      " [-1.77442038+4.21080505j]\n",
      " [-2.86301521+7.13412834j]\n",
      " [-2.3697291 +6.74454886j]]\n"
     ]
    }
   ],
   "source": [
    "circuit.compute_injectedI()\n",
    "print(circuit.injected_current)"
   ]
  }
 ],
 "metadata": {
  "kernelspec": {
   "display_name": "Python 3 (ipykernel)",
   "language": "python",
   "name": "python3"
  },
  "language_info": {
   "codemirror_mode": {
    "name": "ipython",
    "version": 3
   },
   "file_extension": ".py",
   "mimetype": "text/x-python",
   "name": "python",
   "nbconvert_exporter": "python",
   "pygments_lexer": "ipython3",
   "version": "3.10.6"
  }
 },
 "nbformat": 4,
 "nbformat_minor": 5
}
