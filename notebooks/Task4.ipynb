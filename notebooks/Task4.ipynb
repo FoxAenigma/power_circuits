{
 "cells": [
  {
   "cell_type": "markdown",
   "id": "278bd45c",
   "metadata": {},
   "source": [
    "# Task 4: Newtom Rapshon desacoplado rapido"
   ]
  },
  {
   "cell_type": "markdown",
   "id": "bb88e464",
   "metadata": {},
   "source": [
    "<center>\n",
    "    <img src=\"img/task4/circuit.png\"  width=80% height=80%>\n",
    "</center>"
   ]
  },
  {
   "cell_type": "markdown",
   "id": "5cac0ade",
   "metadata": {},
   "source": [
    "$$Y_{bus}=\n",
    "\\begin{bmatrix}\n",
    "    3-j9  & -2+j6     & -1+j3     & 0\\\\\n",
    "    -2+j6 & 3.666-j11 & -0.666+j2 & -1+j3\\\\\n",
    "    -1+j3 & -0.666+j2 & 3.666-j11 & -2+j6\\\\\n",
    "    0     & -1+j3     & -2+j6     & 3-j9\n",
    "\\end{bmatrix}\n",
    "$$"
   ]
  },
  {
   "cell_type": "markdown",
   "id": "26e6059e",
   "metadata": {},
   "source": [
    "# Librerias"
   ]
  },
  {
   "cell_type": "code",
   "execution_count": 129,
   "id": "bb086729",
   "metadata": {},
   "outputs": [],
   "source": [
    "import numpy as np"
   ]
  },
  {
   "cell_type": "markdown",
   "id": "e3368570",
   "metadata": {},
   "source": [
    "## Especificacion"
   ]
  },
  {
   "cell_type": "markdown",
   "id": "6df69d63",
   "metadata": {},
   "source": [
    "El primer requisito es obtener la matriz $Y_{bus}$ del circuito, la cual ya viene dada como la descripcion de este."
   ]
  },
  {
   "cell_type": "code",
   "execution_count": 130,
   "id": "7df30593",
   "metadata": {},
   "outputs": [],
   "source": [
    "Y = np.array([\n",
    "    [3-9j  , -2+6j     , -1+3j     , 0],\n",
    "    [-2+6j , 3.666-11j , -0.666+2j , -1+3j],\n",
    "    [-1+3j , -0.666+2j , 3.666-11j , -2+6j],\n",
    "    [0     , -1+3j     , -2+6j     , 3-9j],\n",
    "])"
   ]
  },
  {
   "cell_type": "markdown",
   "id": "21ca057a",
   "metadata": {},
   "source": [
    "Ahora es necesario indentificar cada tipo de nodo del circuito con sus respectivas constantes."
   ]
  },
  {
   "cell_type": "code",
   "execution_count": 131,
   "id": "3a27d379",
   "metadata": {},
   "outputs": [],
   "source": [
    "# Nota: Valores None representan variables desconocidas\n",
    "\n",
    "nodes = {\n",
    "    1: {\n",
    "        \"type\": \"SLACK\",\n",
    "        \"gen-active\":    None,\n",
    "        \"gen-reactive\":  None,\n",
    "        \"load-active\":   0,\n",
    "        \"load-reactive\": 0,\n",
    "        \"voltage\":       1.04,\n",
    "        \"angle\":         0,\n",
    "    },\n",
    "    2: {\n",
    "        \"type\": \"PQ\",\n",
    "        \"gen-active\":    0,\n",
    "        \"gen-reactive\":  0,\n",
    "        \"load-active\":   -0.9,\n",
    "        \"load-reactive\": -0.5,\n",
    "        \"voltage\":       None,\n",
    "        \"angle\":         None,\n",
    "    },\n",
    "    3: {\n",
    "        \"type\": \"PQ\",\n",
    "        \"gen-active\":    0,\n",
    "        \"gen-reactive\":  0,\n",
    "        \"load-active\":   -0.6,\n",
    "        \"load-reactive\": -0.3,\n",
    "        \"voltage\":       None,\n",
    "        \"angle\":         None,\n",
    "    },\n",
    "    4: {\n",
    "        \"type\": \"PV\",\n",
    "        \"gen-active\":    0.7,\n",
    "        \"gen-reactive\":  None,\n",
    "        \"load-active\":   0,\n",
    "        \"load-reactive\": 0,\n",
    "        \"voltage\":       1.015,\n",
    "        \"angle\":         None,\n",
    "    },\n",
    "}"
   ]
  },
  {
   "cell_type": "markdown",
   "id": "0b46a73b",
   "metadata": {},
   "source": [
    "## Inicializacion"
   ]
  },
  {
   "cell_type": "markdown",
   "id": "121471be",
   "metadata": {},
   "source": [
    "Para empezar se definen las utilidades que se necesitaran mas adelante, una funcion que identifique que nodos son el slack, PV o PQ y una funcion que sea capaz de reducir una matriz segun los indices i+1 que sean definidos (esto para eliminar los elementos segun sea necesario)."
   ]
  },
  {
   "cell_type": "code",
   "execution_count": 132,
   "id": "3128600d",
   "metadata": {},
   "outputs": [],
   "source": [
    "def type_vector(struct: dict):\n",
    "    dim = len(struct)\n",
    "    slack = []\n",
    "    pq = []\n",
    "    pv = []\n",
    "    for i in range(dim):\n",
    "        if struct[i+1][\"type\"] == \"SLACK\":\n",
    "            slack.append(i+1)\n",
    "        if struct[i+1][\"type\"] == \"PQ\":\n",
    "            pq.append(i+1)\n",
    "        if struct[i+1][\"type\"] == \"PV\":\n",
    "            pv.append(i+1)\n",
    "    return slack, pq, pv"
   ]
  },
  {
   "cell_type": "code",
   "execution_count": 133,
   "id": "34a16a63",
   "metadata": {},
   "outputs": [],
   "source": [
    "def reduce_nodes(M, index_vector):\n",
    "    n = 0\n",
    "    for index in index_vector:\n",
    "        M = np.delete(M, index-1-n, 0)\n",
    "        M = np.delete(M, index-1-n, 1)\n",
    "        n += 1\n",
    "    return M"
   ]
  },
  {
   "cell_type": "markdown",
   "id": "c7f1c222",
   "metadata": {},
   "source": [
    "Definidas las dos funciones como utilidades iniciamos las suceptancias $B'$ (B1) y $B''$ (B2) calculando $B=imag(Y)$. Luego se retiran las relaciones con el nodo slack para B1 y las relaciones slack y PV para B2."
   ]
  },
  {
   "cell_type": "code",
   "execution_count": 143,
   "id": "638e1114",
   "metadata": {},
   "outputs": [],
   "source": [
    "def init_suceptance(nodes, Y):\n",
    "    B = Y.imag\n",
    "    slack, pq, pv = type_vector(nodes)\n",
    "    B1 = reduce_nodes(B, set(slack))\n",
    "    B2 = reduce_nodes(B, set(slack+pv))\n",
    "    return B, B1, B2"
   ]
  },
  {
   "cell_type": "markdown",
   "id": "3802f499",
   "metadata": {},
   "source": [
    "Se inician las tensiones y los angulos con la informacion del circuito, si no se dispone entonces se toma $1$ como tension por defecto y $0$ como angulo por defecto."
   ]
  },
  {
   "cell_type": "code",
   "execution_count": 144,
   "id": "08d2296e",
   "metadata": {},
   "outputs": [],
   "source": [
    "def init_voltage(nodes):\n",
    "    dim = len(nodes)\n",
    "    v_init = np.zeros((dim,1), dtype=float)\n",
    "    d_init = np.zeros((dim,1), dtype=float)\n",
    "    for i in range(dim):\n",
    "        v_init[i] = nodes[i+1][\"voltage\"] if nodes[i+1][\"voltage\"]!=None else 1 \n",
    "        d_init[i] = nodes[i+1][\"angle\"] if nodes[i+1][\"angle\"]!=None else 0 \n",
    "    return v_init, d_init    "
   ]
  },
  {
   "cell_type": "markdown",
   "id": "71207dc7",
   "metadata": {},
   "source": [
    "Establecemos el vector de potencias activas y reactivas del sistema ignorando el nodo slack."
   ]
  },
  {
   "cell_type": "code",
   "execution_count": 145,
   "id": "27ad43b0",
   "metadata": {},
   "outputs": [],
   "source": [
    "def init_power(nodes):\n",
    "    dim = len(nodes)\n",
    "    p_system = np.array([], dtype=float)\n",
    "    q_system = np.array([], dtype=float)\n",
    "    for i in range(dim):\n",
    "        if nodes[i+1][\"type\"] != \"SLACK\":\n",
    "            p_gen = nodes[i+1][\"gen-active\"] if nodes[i+1][\"gen-active\"]!=None else 0 \n",
    "            p_load = nodes[i+1][\"load-active\"] if nodes[i+1][\"load-active\"]!=None else 0\n",
    "            p_system=np.append(p_system, [p_gen+p_load])\n",
    "            if nodes[i+1][\"type\"] != \"PV\":\n",
    "                q_gen = nodes[i+1][\"gen-reactive\"] if nodes[i+1][\"gen-reactive\"]!=None else 0\n",
    "                q_load = nodes[i+1][\"load-reactive\"] if nodes[i+1][\"load-reactive\"]!=None else 0\n",
    "                q_system=np.append(q_system, [q_gen+q_load])\n",
    "    return p_system.reshape((len(p_system),1)), q_system.reshape((len(q_system),1))"
   ]
  },
  {
   "cell_type": "code",
   "execution_count": 146,
   "id": "27d37822",
   "metadata": {},
   "outputs": [],
   "source": [
    "def init_types(nodes):\n",
    "    slack, pq, pv = type_vector(nodes)\n",
    "    return np.array(slack)-1, np.array(pq)-1, np.array(pv)-1 "
   ]
  },
  {
   "cell_type": "markdown",
   "id": "9af6b7eb",
   "metadata": {},
   "source": [
    "Por ultimo se inicializan los parametros con las funciones definidas."
   ]
  },
  {
   "cell_type": "code",
   "execution_count": 158,
   "id": "13c0b8a6",
   "metadata": {},
   "outputs": [],
   "source": [
    "V0, D0 = init_voltage(nodes)\n",
    "B, B1, B2 = init_suceptance(nodes, Y)\n",
    "P_injected, Q_injected = init_power(nodes) \n",
    "types = init_types(nodes)"
   ]
  },
  {
   "cell_type": "code",
   "execution_count": 159,
   "id": "c83ad760",
   "metadata": {},
   "outputs": [
    {
     "name": "stdout",
     "output_type": "stream",
     "text": [
      "Voltajes y angulos iniciales:\n",
      "[[1.04 ]\n",
      " [1.   ]\n",
      " [1.   ]\n",
      " [1.015]]\n",
      "[[0.]\n",
      " [0.]\n",
      " [0.]\n",
      " [0.]]\n",
      "\n",
      "Potencias activas y reactivas inyectadas:\n",
      "[[-0.9]\n",
      " [-0.6]\n",
      " [ 0.7]]\n",
      "[[-0.5]\n",
      " [-0.3]]\n",
      "\n",
      "Suceptancia:\n",
      "[[ -9.   6.   3.   0.]\n",
      " [  6. -11.   2.   3.]\n",
      " [  3.   2. -11.   6.]\n",
      " [  0.   3.   6.  -9.]]\n",
      "\n",
      "Suceptancia prima:\n",
      "[[-11.   2.   3.]\n",
      " [  2. -11.   6.]\n",
      " [  3.   6.  -9.]]\n",
      "\n",
      "Suceptancia prima prima:\n",
      "[[-11.   2.]\n",
      " [  2. -11.]]\n"
     ]
    }
   ],
   "source": [
    "print(\"Voltajes y angulos iniciales:\")\n",
    "print(V0)\n",
    "print(D0)\n",
    "print()\n",
    "print(\"Potencias activas y reactivas inyectadas:\")\n",
    "print(P_injected)\n",
    "print(Q_injected)\n",
    "print()\n",
    "print(\"Suceptancia:\")\n",
    "print(B)\n",
    "print()\n",
    "print(\"Suceptancia prima:\")\n",
    "print(B1)\n",
    "print()\n",
    "print(\"Suceptancia prima prima:\")\n",
    "print(B2)"
   ]
  },
  {
   "cell_type": "markdown",
   "id": "53461112",
   "metadata": {},
   "source": [
    "# Metodo iterativo"
   ]
  },
  {
   "cell_type": "markdown",
   "id": "b2167db4",
   "metadata": {},
   "source": [
    "Con las funciones de inicializacion se puede crear los parametro iniciales de la resolucion del circuito teniendo en cuenta las siguientes expresiones de cambio de tension y angulo."
   ]
  },
  {
   "cell_type": "markdown",
   "id": "78dd69b3",
   "metadata": {},
   "source": [
    "$$\\Delta \\delta^{[k+1]}=-[B']^{-1}\\cdot\\frac{\\Delta P}{|V^{[k]}|}$$\n",
    "$$\\Delta V^{[k+1]}=-[B'']^{-1}\\cdot\\frac{\\Delta Q}{|V^{[k]}|}$$"
   ]
  },
  {
   "cell_type": "markdown",
   "id": "2eccd021",
   "metadata": {},
   "source": [
    "A partir de las diferencias $k+1$ se actualizan $V^{[k+1]}$ y $\\delta^{[k+1]}$"
   ]
  },
  {
   "cell_type": "markdown",
   "id": "46744dd0",
   "metadata": {},
   "source": [
    "$$\\delta^{[k+1]}=\\delta^{[k]}+\\Delta \\delta^{[k+1]}$$\n",
    "$$V^{[k+1]}=V^{[k]}+\\Delta V^{[k+1]}$$"
   ]
  },
  {
   "cell_type": "code",
   "execution_count": 162,
   "id": "8b478e58",
   "metadata": {},
   "outputs": [],
   "source": [
    "def update_NRDR(V, D, P, Q, B1, B2, Y, types):\n",
    "    \n",
    "    def filter_node(vector, index):\n",
    "        dim = len(index)\n",
    "        return np.take(vector, index).reshape((dim,1))\n",
    "    \n",
    "    def deltaP(P, V):  \n",
    "        dim = len(P)\n",
    "        d_P = np.zeros((dim,1))\n",
    "        for i in range(dim):\n",
    "            d_P[i] = P[i]\n",
    "            d_P[i] -= np.real(V[i]*np.conj(np.add.reduce(V*Y[i,:].reshape((len(Y),1)))))\n",
    "        return d_P\n",
    "                              \n",
    "    def deltaQ(Q, V):\n",
    "        dim = len(Q)\n",
    "        d_Q = np.zeros((dim,1))\n",
    "        for i in range(dim):\n",
    "            d_Q[i] = Q[i]\n",
    "            d_Q[i] -= np.imag(V[i]*np.conj(np.add.reduce(V*Y[i,:].reshape((len(Y),1)))))\n",
    "        return d_Q        \n",
    "\n",
    "    \n",
    "    def deltaDelta(V, d_P, B1, index):\n",
    "        return np.dot(-np.linalg.inv(B1), np.divide(d_P, filter_node(V,index)))\n",
    "    \n",
    "    def deltaV(D, d_Q, B2, index):\n",
    "        return np.dot(-np.linalg.inv(B2), np.divide(d_Q, filter_node(D, index)))\n",
    "    \n",
    "    \n",
    "    slack = list(set(types[0]))\n",
    "    spv = list(set(np.append(types[0], types[2])))\n",
    "    d_D = deltaDelta(V, deltaP(P, V), B1, slack)\n",
    "    d_V = deltaV(V, deltaQ(Q, V), B2, spv)\n",
    "    \n",
    "    Dplus = np.copy(D)\n",
    "    Vplus = np.copy(V)\n",
    "    k=0\n",
    "    for i in range(len(D)):\n",
    "        if i not in slack: \n",
    "            Dplus[i] = D[i] + d_D[k]\n",
    "            k += 1\n",
    "    k=0\n",
    "    for i in range(len(V)):\n",
    "        if i not in spv:\n",
    "            Vplus[i] = V[i] + d_V[k]\n",
    "            k += 1\n",
    "            \n",
    "    return Vplus, Dplus"
   ]
  },
  {
   "cell_type": "code",
   "execution_count": null,
   "id": "4f722e80",
   "metadata": {},
   "outputs": [],
   "source": []
  },
  {
   "cell_type": "code",
   "execution_count": 161,
   "id": "22334b14",
   "metadata": {},
   "outputs": [
    {
     "name": "stdout",
     "output_type": "stream",
     "text": [
      "Base\n",
      "[[1.04 ]\n",
      " [1.   ]\n",
      " [1.   ]\n",
      " [1.015]]\n",
      "[[0.]\n",
      " [0.]\n",
      " [0.]\n",
      " [0.]]\n",
      "\n",
      "Iteracion 1\n",
      "[[1.04      ]\n",
      " [0.9207007 ]\n",
      " [0.98423846]\n",
      " [1.015     ]]\n",
      "[[ 0.        ]\n",
      " [-0.09514957]\n",
      " [-0.0532265 ]\n",
      " [ 0.0150641 ]]\n",
      "\n",
      "Iteracion 2\n",
      "[[1.04      ]\n",
      " [0.80487915]\n",
      " [1.02914475]\n",
      " [1.015     ]]\n",
      "[[ 0.        ]\n",
      " [-0.19472522]\n",
      " [-0.07423157]\n",
      " [ 0.05053837]]\n",
      "\n",
      "Iteracion 3\n",
      "[[1.04      ]\n",
      " [0.65267969]\n",
      " [1.1540778 ]\n",
      " [1.015     ]]\n",
      "[[ 0.        ]\n",
      " [-0.31739899]\n",
      " [-0.08663084]\n",
      " [ 0.0578279 ]]\n",
      "\n",
      "Iteracion 4\n",
      "[[1.04      ]\n",
      " [0.46462948]\n",
      " [1.35103048]\n",
      " [1.015     ]]\n",
      "[[ 0.        ]\n",
      " [-0.50185525]\n",
      " [-0.15522291]\n",
      " [-0.06413453]]\n",
      "\n"
     ]
    }
   ],
   "source": [
    "V1, D1 = update_NRDR(V0, D0, P_injected, Q_injected, B1, B2, Y, types)\n",
    "V2, D2 = update_NRDR(V1, D1, P_injected, Q_injected, B1, B2, Y, types)\n",
    "V3, D3 = update_NRDR(V2, D2, P_injected, Q_injected, B1, B2, Y, types)\n",
    "V4, D4 = update_NRDR(V3, D3, P_injected, Q_injected, B1, B2, Y, types)\n",
    "\n",
    "print(\"Base\")\n",
    "print(V0)\n",
    "print(D0)\n",
    "print()\n",
    "print(\"Iteracion 1\")\n",
    "print(V1)\n",
    "print(D1)\n",
    "print()\n",
    "print(\"Iteracion 2\")\n",
    "print(V2)\n",
    "print(D2)\n",
    "print()\n",
    "print(\"Iteracion 3\")\n",
    "print(V3)\n",
    "print(D3)\n",
    "print()\n",
    "print(\"Iteracion 4\")\n",
    "print(V4)\n",
    "print(D4)\n",
    "print()"
   ]
  }
 ],
 "metadata": {
  "kernelspec": {
   "display_name": "Python 3 (ipykernel)",
   "language": "python",
   "name": "python3"
  },
  "language_info": {
   "codemirror_mode": {
    "name": "ipython",
    "version": 3
   },
   "file_extension": ".py",
   "mimetype": "text/x-python",
   "name": "python",
   "nbconvert_exporter": "python",
   "pygments_lexer": "ipython3",
   "version": "3.10.6"
  }
 },
 "nbformat": 4,
 "nbformat_minor": 5
}
