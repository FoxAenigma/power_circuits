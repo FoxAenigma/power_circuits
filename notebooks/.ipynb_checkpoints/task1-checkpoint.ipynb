{
 "cells": [
  {
   "cell_type": "markdown",
   "id": "05146bbc-46bf-4a7e-b6eb-c9e06ef29ea5",
   "metadata": {},
   "source": [
    "# Task 1: Nodal ecuations\n",
    "\n",
    "## Name: Sergio Andres Vargas Mendez"
   ]
  },
  {
   "cell_type": "markdown",
   "id": "f19fd9ab-4b3c-472e-82da-caa736669893",
   "metadata": {},
   "source": [
    "Calculate the admittance and impedance matrix from the circuit. Then, get the currents, powers and losses (by differents methods)."
   ]
  },
  {
   "cell_type": "markdown",
   "id": "057a074b-2a7d-4ba9-8779-4a5f2cfbed15",
   "metadata": {},
   "source": [
    "<center>\n",
    "    <img src=\"img/task1.jpg\"  width=80% height=80%>\n",
    "</center>\n"
   ]
  },
  {
   "cell_type": "markdown",
   "id": "ad32e252-accd-4f8f-b08c-ca4f3ae7ff32",
   "metadata": {},
   "source": [
    "<center>\n",
    "$Z_l = 0.0013 + j0.003 [pu/km]$\n",
    "</center>\n",
    "<center>\n",
    "$B_c = j0.0008 [pu/km]$\n",
    "</center>"
   ]
  },
  {
   "cell_type": "markdown",
   "id": "3e533f67-cceb-4f39-ba2e-682873585197",
   "metadata": {
    "tags": []
   },
   "source": [
    "## Modules"
   ]
  },
  {
   "cell_type": "markdown",
   "id": "dcbf99c7-cf7d-4b3c-85d1-4e3d74ecadfc",
   "metadata": {},
   "source": [
    "Methods will be explained when solution's instance call it, first modules have to be imported."
   ]
  },
  {
   "cell_type": "code",
   "execution_count": 4,
   "id": "0a69915a-26b4-4f3b-9835-cd4627abd105",
   "metadata": {},
   "outputs": [],
   "source": [
    "#Append directory source code\n",
    "import sys\n",
    "sys.path.append(\"/home/FoxyLuxe/Repo/tasks/power_circuits/src/structures\")\n",
    "\n",
    "#Objects models\n",
    "from circuits import PowerCircuit\n",
    "from nodes import Node\n",
    "from lines import PILine"
   ]
  },
  {
   "cell_type": "markdown",
   "id": "e115526b-9294-4de0-8c18-0a133f63ed3c",
   "metadata": {},
   "source": [
    "In order to solve the problem, class based circuit was made to represent power circuit as a data structure and all methods required within main circuit class to accompany the computation of admittances, impedances, currents and powers. The ordered classes are built like the next image."
   ]
  },
  {
   "cell_type": "markdown",
   "id": "0896108f-b0c2-498e-8629-b2ae4aa5e174",
   "metadata": {},
   "source": [
    "<center>\n",
    "    <img src=\"img/classes.png\"  width=50% height=50%>\n",
    "</center>"
   ]
  },
  {
   "cell_type": "markdown",
   "id": "bb9d1658-9de0-4894-a7a5-d298c8a25988",
   "metadata": {},
   "source": [
    "## Initialization"
   ]
  },
  {
   "cell_type": "markdown",
   "id": "a2946d00-de26-4a8e-8215-dd1c731fd08d",
   "metadata": {},
   "source": [
    "The next step is to define the node map data structure like a dictionary of index keys containing the self index, the voltage of each node and the model for connection between another ones. By the way, the connection structure is a dictionary which map every key with a node of the circuit and the value can be whatever line model (in this case is PI line model described by a distance)."
   ]
  },
  {
   "cell_type": "code",
   "execution_count": 5,
   "id": "eab75c1a-03e9-46f9-a35e-0ef404bfaaf1",
   "metadata": {},
   "outputs": [],
   "source": [
    "zl = 0.0013+0.003j\n",
    "bc = 0+0.0008j\n",
    "\n",
    "node_map = {\n",
    "    1: Node(\n",
    "           _index = 1, \n",
    "           _voltage = (1.045, 0), \n",
    "           _connection = {\n",
    "                4: PILine(_distance=190, _Zl=zl, _Bc=bc),\n",
    "                2: PILine(_distance=130, _Zl=zl, _Bc=bc),\n",
    "                3: PILine(_distance=135, _Zl=zl, _Bc=bc),\n",
    "           }\n",
    "       ),\n",
    "    2: Node(\n",
    "           _index = 2,\n",
    "           _voltage = (0.982, -2.8),\n",
    "           _connection = {\n",
    "               1: PILine(_distance=130, _Zl=zl, _Bc=bc),\n",
    "               4: PILine(_distance=100, _Zl=zl, _Bc=bc),\n",
    "           }\n",
    "       ),\n",
    "    3: Node(\n",
    "           _index = 3,\n",
    "           _voltage = (0.97, -5.5),\n",
    "           _connection = {\n",
    "               1: PILine(_distance=135, _Zl=zl, _Bc=bc),\n",
    "               5: PILine(_distance=150, _Zl=zl, _Bc=bc),\n",
    "           }\n",
    "       ),\n",
    "    4: Node(\n",
    "           _index = 4,\n",
    "           _voltage = (0.96, -4.2),\n",
    "           _connection = {\n",
    "               1: PILine(_distance=190, _Zl=zl, _Bc=bc),\n",
    "               2: PILine(_distance=100, _Zl=zl, _Bc=bc),\n",
    "               5: PILine(_distance=110, _Zl=zl, _Bc=bc),\n",
    "           }\n",
    "       ),\n",
    "    5: Node(\n",
    "           _index = 5,\n",
    "           _voltage = (1.08, -1.2),\n",
    "           _connection = {\n",
    "               4: PILine(_distance=110, _Zl=zl, _Bc=bc),\n",
    "               2: PILine(_distance=120, _Zl=zl, _Bc=bc),\n",
    "               3: PILine(_distance=150, _Zl=zl, _Bc=bc),\n",
    "           }\n",
    "       ),\n",
    "}"
   ]
  },
  {
   "cell_type": "code",
   "execution_count": 6,
   "id": "569bd49f-5045-44da-bef2-f3a46e556379",
   "metadata": {},
   "outputs": [],
   "source": [
    "circuit = PowerCircuit(node_map=node_map)"
   ]
  },
  {
   "cell_type": "code",
   "execution_count": 7,
   "id": "3964a126-08ae-410f-ba31-0d20580c4fbf",
   "metadata": {},
   "outputs": [
    {
     "ename": "TypeError",
     "evalue": "PowerCircuit.compute_admittance() takes 0 positional arguments but 1 was given",
     "output_type": "error",
     "traceback": [
      "\u001b[0;31m---------------------------------------------------------------------------\u001b[0m",
      "\u001b[0;31mTypeError\u001b[0m                                 Traceback (most recent call last)",
      "Input \u001b[0;32mIn [7]\u001b[0m, in \u001b[0;36m<cell line: 1>\u001b[0;34m()\u001b[0m\n\u001b[0;32m----> 1\u001b[0m \u001b[43mcircuit\u001b[49m\u001b[38;5;241;43m.\u001b[39;49m\u001b[43mcompute_admittance\u001b[49m\u001b[43m(\u001b[49m\u001b[43m)\u001b[49m\n",
      "\u001b[0;31mTypeError\u001b[0m: PowerCircuit.compute_admittance() takes 0 positional arguments but 1 was given"
     ]
    }
   ],
   "source": [
    "circuit.compute_admittance()"
   ]
  },
  {
   "cell_type": "code",
   "execution_count": null,
   "id": "9b70d2c7-aa6c-492b-a269-07f8369a4636",
   "metadata": {},
   "outputs": [],
   "source": []
  }
 ],
 "metadata": {
  "kernelspec": {
   "display_name": "Python 3 (ipykernel)",
   "language": "python",
   "name": "python3"
  },
  "language_info": {
   "codemirror_mode": {
    "name": "ipython",
    "version": 3
   },
   "file_extension": ".py",
   "mimetype": "text/x-python",
   "name": "python",
   "nbconvert_exporter": "python",
   "pygments_lexer": "ipython3",
   "version": "3.10.6"
  }
 },
 "nbformat": 4,
 "nbformat_minor": 5
}
