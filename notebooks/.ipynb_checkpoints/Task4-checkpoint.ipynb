{
 "cells": [
  {
   "cell_type": "markdown",
   "id": "278bd45c",
   "metadata": {},
   "source": [
    "# Task 4: Newtom Rapshon desacoplado rapido"
   ]
  },
  {
   "cell_type": "markdown",
   "id": "581bf228",
   "metadata": {},
   "source": [
    "<center>\n",
    "    <img src=\"img/task4/circuit.png\"  width=80% height=80%>\n",
    "</center>"
   ]
  },
  {
   "cell_type": "markdown",
   "id": "e3368570",
   "metadata": {},
   "source": [
    "## Inicializacion"
   ]
  },
  {
   "cell_type": "markdown",
   "id": "6df69d63",
   "metadata": {},
   "source": [
    "El primer requisito es obtener la matriz $Y_{bus}$ del circuito, la cual ya viene dada como la descripcion de este."
   ]
  },
  {
   "cell_type": "markdown",
   "id": "dda054f7",
   "metadata": {},
   "source": [
    "$$Y_{bus}=\n",
    "\\begin{bmatrix}\n",
    "    3-j9  & -2+j6     & -1+j3     & 0\\\\\n",
    "    -2+j6 & 3.666-j11 & -0.666+j2 & -1+j3\\\\\n",
    "    -1+j3 & -0.666+j2 & 3.666-j11 & -2+j6\\\\\n",
    "    0     & -1+j3     & -2+j6     & 3-j9\n",
    "\\end{bmatrix}\n",
    "$$"
   ]
  },
  {
   "cell_type": "code",
   "execution_count": null,
   "id": "19469256",
   "metadata": {},
   "outputs": [],
   "source": []
  }
 ],
 "metadata": {
  "kernelspec": {
   "display_name": "Python 3 (ipykernel)",
   "language": "python",
   "name": "python3"
  },
  "language_info": {
   "codemirror_mode": {
    "name": "ipython",
    "version": 3
   },
   "file_extension": ".py",
   "mimetype": "text/x-python",
   "name": "python",
   "nbconvert_exporter": "python",
   "pygments_lexer": "ipython3",
   "version": "3.10.6"
  }
 },
 "nbformat": 4,
 "nbformat_minor": 5
}
